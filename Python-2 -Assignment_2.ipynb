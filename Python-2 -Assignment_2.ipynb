{
 "cells": [
  {
   "cell_type": "markdown",
   "metadata": {},
   "source": [
    "#    Assignment 2.1 - \n",
    "    Write a program which accepts a sequence of comma-separated numbers from console\n",
    "    and generate a list."
   ]
  },
  {
   "cell_type": "code",
   "execution_count": 19,
   "metadata": {},
   "outputs": [
    {
     "name": "stdout",
     "output_type": "stream",
     "text": [
      "Input some comma seprated numbers : 1,2,3,4,5\n",
      "List as Str\n",
      "['1', '2', '3', '4', '5']\n",
      "List of Interger\n",
      "[1, 2, 3, 4, 5]\n"
     ]
    }
   ],
   "source": [
    "comma_separated_numbers = input(\"Input some comma seprated numbers : \")\n",
    "comma_separated_list =comma_separated_numbers.split(\",\")\n",
    "print(\"List as String\" )\n",
    "print (comma_separated_list)\n",
    "comma_separated_list = list(map(int,comma_separated_list))\n",
    "print(\"List of Intergers\")\n",
    "print(comma_separated_list)"
   ]
  },
  {
   "cell_type": "markdown",
   "metadata": {},
   "source": [
    "#    Assignment 2.2 - \n",
    "        Create the below pattern using nested for loop in Python."
   ]
  },
  {
   "cell_type": "code",
   "execution_count": 25,
   "metadata": {},
   "outputs": [
    {
     "name": "stdout",
     "output_type": "stream",
     "text": [
      "\n",
      "* \n",
      "* * \n",
      "* * * \n",
      "* * * * \n",
      "* * * * * \n",
      "* * * * \n",
      "* * * \n",
      "* * \n",
      "* \n"
     ]
    }
   ],
   "source": [
    "n=5;\n",
    "for i in range(n):\n",
    "    \n",
    "    for j in range(i):\n",
    "        print ('* ', end=\"\")\n",
    "    print('')\n",
    "\n",
    "for i in range(n,0,-1):\n",
    "    for j in range(i):\n",
    "        print('* ', end=\"\")\n",
    "    print('')\n"
   ]
  },
  {
   "cell_type": "markdown",
   "metadata": {},
   "source": [
    "#    Assignment 2.3 - \n",
    "        Write a Python program to reverse a word after accepting the input from the user."
   ]
  },
  {
   "cell_type": "code",
   "execution_count": 26,
   "metadata": {},
   "outputs": [
    {
     "name": "stdout",
     "output_type": "stream",
     "text": [
      "Enter a word: ACADGILD\n",
      "DLIGDACA\n"
     ]
    }
   ],
   "source": [
    "reverse_str = input(\"Enter a word: \")\n",
    "print(reverse_str[::-1])"
   ]
  },
  {
   "cell_type": "markdown",
   "metadata": {},
   "source": [
    "#    Assignment 2.4 - \n",
    "    Write a Python Program to print the given string in the format specified in the sample output.\n",
    "    #WE, THE PEOPLE OF INDIA, having solemnly resolved to constitute India into a\n",
    "    #SOVEREIGN, SOCIALIST, SECULAR, DEMOCRATIC REPUBLIC and to secure to all\n",
    "    #its citizens\n",
    "    #Sample Output:\n",
    "      WE, THE PEOPLE OF INDIA,\n",
    "            having solemnly resolved to constitute India into a SOVEREIGN, !\n",
    "                    SOCIALIST, SECULAR, DEMOCRATIC REPUBLIC\n",
    "                    and to secure to all its citizens"
   ]
  },
  {
   "cell_type": "code",
   "execution_count": 18,
   "metadata": {},
   "outputs": [
    {
     "name": "stdout",
     "output_type": "stream",
     "text": [
      "Enter some string:\n",
      "WE, THE PEOPLE OF INDIA, having solemnly resolved to constitute India into a SOVEREIGN, SOCIALIST, SECULAR, DEMOCRATIC REPUBLIC and to secure to all its citizens\n",
      "\n",
      "\n",
      "Sample Output:\n",
      "WE, THE PEOPLE OF INDIA, \n",
      "\thaving solemnly resolved to constitute India into a SOVEREIGN, !\n",
      "\t\tSOCIALIST, SECULAR, DEMOCRATIC REPUBLIC\n",
      "\t\tand to secure to all its citizens:\n"
     ]
    }
   ],
   "source": [
    "user_input = input (\"Enter some string:\\n\")\n",
    "print(\"\\n\")\n",
    "print(\"Sample Output:\")\n",
    "print(user_input.replace(\"INDIA, \",\"INDIA, \"\"\\n\\t\").replace(\"SOVEREIGN, \",\"SOVEREIGN, !\"\"\\n\\t\\t\")\n",
    "      .replace(\"REPUBLIC \",\"REPUBLIC\"\"\\n\\t\\t\").replace(\"citizens\",\"citizens:\"))"
   ]
  },
  {
   "cell_type": "code",
   "execution_count": null,
   "metadata": {},
   "outputs": [],
   "source": []
  }
 ],
 "metadata": {
  "kernelspec": {
   "display_name": "Python 3",
   "language": "python",
   "name": "python3"
  },
  "language_info": {
   "codemirror_mode": {
    "name": "ipython",
    "version": 3
   },
   "file_extension": ".py",
   "mimetype": "text/x-python",
   "name": "python",
   "nbconvert_exporter": "python",
   "pygments_lexer": "ipython3",
   "version": "3.6.4"
  }
 },
 "nbformat": 4,
 "nbformat_minor": 2
}
